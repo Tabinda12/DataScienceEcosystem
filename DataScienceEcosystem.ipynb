{
 "cells": [
  {
   "cell_type": "markdown",
   "id": "942f174e-ae50-44e5-b098-bcff3e946ceb",
   "metadata": {},
   "source": [
    "# Data Science Tools and Ecosystem"
   ]
  },
  {
   "cell_type": "markdown",
   "id": "1484bea2-8e82-4c72-b685-8be995fbec8f",
   "metadata": {},
   "source": [
    "In this notebook, Data Science Tools and Ecosystem are summarized."
   ]
  },
  {
   "cell_type": "markdown",
   "id": "57d2f5c8-8f91-412c-9ddc-3884bb055fdf",
   "metadata": {},
   "source": [
    "__Objectives__"
   ]
  },
  {
   "cell_type": "markdown",
   "id": "68de2ea6-264f-4a24-ae0f-84b8cf8531a6",
   "metadata": {},
   "source": [
    "* Popular languages covered in this notebook\n",
    "* List of some open data science environments are listed\n",
    "* Some of arithmetic operations are performed\n",
    "* List of widely usd libraries are inlcuded in this notebook\n",
    "* Expression to convert the minutes into hours"
   ]
  },
  {
   "cell_type": "markdown",
   "id": "ea761bdd-f2dd-4256-a4a8-ca5e9fc9fd9f",
   "metadata": {},
   "source": [
    "Some of the popular languages that Data Scientists use are:\n",
    "1. R\n",
    "2. Python\n",
    "3. Scala\n",
    "4. Javascript"
   ]
  },
  {
   "cell_type": "markdown",
   "id": "c68964c6-b62c-4a9a-885a-640e21a7ac77",
   "metadata": {},
   "source": [
    "Some of the commonly used libraries used by Data Scientists include:\n",
    "1. TensorFlow\n",
    "2. Keras\n",
    "3. Pytorch"
   ]
  },
  {
   "cell_type": "markdown",
   "id": "6aa70543-5b9d-45f4-9155-e8070a9bb1c0",
   "metadata": {},
   "source": [
    "| Data Science Tools |\n",
    "| ------------------ | \n",
    "| RStudio |\n",
    "| ------------------ |\n",
    "| Apache Zeppelin | \n",
    "| ------------------ |\n",
    "| Jupyter Notebook |"
   ]
  },
  {
   "cell_type": "markdown",
   "id": "3b96bf69-7c90-41ee-a7f8-218450c99db8",
   "metadata": {},
   "source": [
    "### Below are a few examples of evaluating arithmetic expressions in Python"
   ]
  },
  {
   "cell_type": "code",
   "execution_count": 4,
   "id": "5b4a12a8-62bf-4805-a46e-6a4ccc9952a6",
   "metadata": {},
   "outputs": [
    {
     "data": {
      "text/plain": [
       "6"
      ]
     },
     "execution_count": 4,
     "metadata": {},
     "output_type": "execute_result"
    }
   ],
   "source": [
    "2*3"
   ]
  },
  {
   "cell_type": "code",
   "execution_count": 5,
   "id": "7bc9d027-56a4-4484-a4fc-86170c7283cd",
   "metadata": {},
   "outputs": [
    {
     "data": {
      "text/plain": [
       "32.0"
      ]
     },
     "execution_count": 5,
     "metadata": {},
     "output_type": "execute_result"
    }
   ],
   "source": [
    "64/2"
   ]
  },
  {
   "cell_type": "code",
   "execution_count": 6,
   "id": "48c024a6-5373-4ad6-a663-79ee7dd07ae5",
   "metadata": {},
   "outputs": [
    {
     "data": {
      "text/plain": [
       "0"
      ]
     },
     "execution_count": 6,
     "metadata": {},
     "output_type": "execute_result"
    }
   ],
   "source": [
    "4%2"
   ]
  },
  {
   "cell_type": "code",
   "execution_count": 8,
   "id": "235824ab-2efe-47d9-9c78-9a5262e7388d",
   "metadata": {},
   "outputs": [
    {
     "data": {
      "text/plain": [
       "17"
      ]
     },
     "execution_count": 8,
     "metadata": {},
     "output_type": "execute_result"
    }
   ],
   "source": [
    "(3*4)+5"
   ]
  },
  {
   "cell_type": "code",
   "execution_count": 10,
   "id": "04e27e15-82e2-4319-a4fe-b9238a922063",
   "metadata": {},
   "outputs": [],
   "source": [
    "# This will convert 200 minutes to hours by diving by 60\n",
    "hours=200/60"
   ]
  },
  {
   "cell_type": "code",
   "execution_count": 12,
   "id": "a9f6cd53-4933-40db-a65f-e1f21999d6fe",
   "metadata": {},
   "outputs": [
    {
     "name": "stdout",
     "output_type": "stream",
     "text": [
      "3.3333333333333335\n"
     ]
    }
   ],
   "source": [
    "print(hours)"
   ]
  },
  {
   "cell_type": "markdown",
   "id": "b5bfead3-d2f5-4e2d-bc68-a0e80c056fd5",
   "metadata": {},
   "source": [
    "## Author\n",
    "Tabinda Tasneem"
   ]
  },
  {
   "cell_type": "code",
   "execution_count": null,
   "id": "e1718d04-ad7d-414d-86be-c70e8c65c2f8",
   "metadata": {},
   "outputs": [],
   "source": []
  }
 ],
 "metadata": {
  "kernelspec": {
   "display_name": "Python",
   "language": "python",
   "name": "conda-env-python-py"
  },
  "language_info": {
   "codemirror_mode": {
    "name": "ipython",
    "version": 3
   },
   "file_extension": ".py",
   "mimetype": "text/x-python",
   "name": "python",
   "nbconvert_exporter": "python",
   "pygments_lexer": "ipython3",
   "version": "3.7.12"
  }
 },
 "nbformat": 4,
 "nbformat_minor": 5
}
